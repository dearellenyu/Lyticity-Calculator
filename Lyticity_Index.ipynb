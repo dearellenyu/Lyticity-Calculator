{
  "nbformat": 4,
  "nbformat_minor": 0,
  "metadata": {
    "colab": {
      "provenance": [],
      "authorship_tag": "ABX9TyPYiB1IUA1TDBHOA6YYFtFZ",
      "include_colab_link": true
    },
    "kernelspec": {
      "name": "python3",
      "display_name": "Python 3"
    },
    "language_info": {
      "name": "python"
    }
  },
  "cells": [
    {
      "cell_type": "markdown",
      "metadata": {
        "id": "view-in-github",
        "colab_type": "text"
      },
      "source": [
        "<a href=\"https://colab.research.google.com/github/walenskylab/Lyticity-Calculator/blob/main/Lyticity_Index.ipynb\" target=\"_parent\"><img src=\"https://colab.research.google.com/assets/colab-badge.svg\" alt=\"Open In Colab\"/></a>"
      ]
    },
    {
      "cell_type": "markdown",
      "source": [
        "# Welcome to the Walensky Lab Lyticity Index and HNM Calculator\n"
      ],
      "metadata": {
        "id": "NpYtlAWW6hSp"
      }
    },
    {
      "cell_type": "markdown",
      "source": [
        "# Step 1: Install packages and prepare variables.\n",
        "### Press the Play button."
      ],
      "metadata": {
        "id": "SazrHAEB9e54"
      }
    },
    {
      "cell_type": "code",
      "source": [
        "# install numpy\n",
        "!pip install numpy\n",
        "import numpy as np\n",
        "\n",
        "# segregate amino acids by hydrophilic vs hydrophobic\n",
        "all_residues = ['A','B','C','D','E','F','G','H','I','K','L','M','N','P','Q','R','S','T','V','W','X','Y','Z']\n",
        "hydrophobicity_value = [3.9,25.6,8.3,-0.9,-0.9,29.9,0.0,3.4,22.4,-1.1,24.2,16.3,0.5,9.7,0.5,3.9,0.5,3.9,14.4,32.9,29.5,15.4,-1.1]\n",
        "\n",
        "# define hydrophilic residues\n",
        "hydrophilic_residue = ['Q','N','S','R','D','H','K','Z','E']"
      ],
      "metadata": {
        "colab": {
          "base_uri": "https://localhost:8080/"
        },
        "id": "rfxOPm9qmYIy",
        "outputId": "fc68093d-42d3-494a-9112-e9f15d451264"
      },
      "execution_count": null,
      "outputs": [
        {
          "output_type": "stream",
          "name": "stdout",
          "text": [
            "Looking in indexes: https://pypi.org/simple, https://us-python.pkg.dev/colab-wheels/public/simple/\n",
            "Requirement already satisfied: numpy in /usr/local/lib/python3.10/dist-packages (1.22.4)\n"
          ]
        }
      ]
    },
    {
      "cell_type": "markdown",
      "source": [
        "# Step 2: Input a peptide sequence\n",
        "### Press the Play button. When prompted, please enter a sequence between 5-40 amino acids (case sensitive) and hit `Enter`. Denote staples using the character `X` at the `i` and `i+4` positions. For example: `TRSSRXGLQXPVGRVHRLLRK`."
      ],
      "metadata": {
        "id": "c-wn-s6F8892"
      }
    },
    {
      "cell_type": "code",
      "source": [
        "# import sequence from user input\n",
        "sequence = np.array(list(input(\"Enter sequence:\")))"
      ],
      "metadata": {
        "colab": {
          "base_uri": "https://localhost:8080/"
        },
        "id": "E5YKfalRirgG",
        "outputId": "76f8d156-deda-4a14-cae3-f04886a2deb5"
      },
      "execution_count": null,
      "outputs": [
        {
          "name": "stdout",
          "output_type": "stream",
          "text": [
            "Enter sequence:TRSSRXGLQXPVGRVHRLLRK\n"
          ]
        }
      ]
    },
    {
      "cell_type": "markdown",
      "source": [
        "# Step 3: Calculate the lyticity index\n",
        "\n",
        "### Press the Play button."
      ],
      "metadata": {
        "id": "yD-v7IL4-SYy"
      }
    },
    {
      "cell_type": "code",
      "source": [
        "# assign lyticity values to each residue in the peptide sequence\n",
        "lyticity_assignment = []\n",
        "for x in sequence:\n",
        "  lyticity_assignment.append(hydrophobicity_value[all_residues.index(x)])\n",
        "\n",
        "# make array of i+4 sums\n",
        "i_plus_4_sums = []\n",
        "for i in range(len(sequence)-5):\n",
        "  if sequence[i] not in hydrophilic_residue and sequence[i+4] not in hydrophilic_residue:\n",
        "    i_plus_4_sums.append(lyticity_assignment[i] + lyticity_assignment[i+4])\n",
        "\n",
        "# make array of i+3 sums\n",
        "i_plus_3_sums = []\n",
        "for i in range(len(sequence)-4):\n",
        "  if sequence[i] not in hydrophilic_residue and sequence[i+3] not in hydrophilic_residue:\n",
        "    i_plus_3_sums.append(lyticity_assignment[i] + lyticity_assignment[i+3])\n",
        "  \n",
        "# sum everything together to get final lyticity value\n",
        "total_lyticity = sum(i_plus_4_sums) + sum(i_plus_3_sums)\n",
        "print(\"Lyticity Index = \" + str(total_lyticity))"
      ],
      "metadata": {
        "colab": {
          "base_uri": "https://localhost:8080/"
        },
        "id": "WUmICIEBpneZ",
        "outputId": "56f6e40a-6484-426a-8c53-649e4142a2d6"
      },
      "execution_count": null,
      "outputs": [
        {
          "output_type": "stream",
          "name": "stdout",
          "text": [
            "Lyticity Index = 330.3\n"
          ]
        }
      ]
    },
    {
      "cell_type": "markdown",
      "source": [
        "# Step 4: Generate the hydrophobicity network map\n",
        "\n",
        "### Under construction."
      ],
      "metadata": {
        "id": "OMFsQ6-h_lg0"
      }
    },
    {
      "cell_type": "code",
      "source": [
        "# define a coordinate system of vertices\n",
        "coordinates = [[0.0827871497748529, 1.22543483713197],\n",
        "[0.076995763674522, 0.530626795334199],\n",
        "[0.868890997031536, 1.87908821283904],\n",
        "[0.441560525177125, 1.49896727228638],\n",
        "[0.48240496215065, 0.901870774539759],\n",
        "[1.34393223792946, 1.02747624289759],\n",
        "[1.50396821434331, 1.69337865729662],\n",
        "[1.46023668996922, 1.3642156743281],\n",
        "[1.44609032105855, 0.669414944738497],\n",
        "[2.1646646326303, 1.64275622799009],\n",
        "[2.19510616243733, 0.577664674119265],\n",
        "[2.83626488566483, 1.39989719223691],\n",
        "[2.83573673673919, 1.01200415449763],\n",
        "[2.88638485797811, 0.613640471515149],\n",
        "[2.67678078003118, 1.86796294402208],\n",
        "[4.0068759380458, 1.4466411971033],\n",
        "[3.60004891428218, 0.550058265097044],\n",
        "[3.34375700802153, 1.70212466747641],\n",
        "[3.45879866796936, 2.07622733841848],\n",
        "[3.99776914664968, 0.889352651822978],\n",
        "[3.51021580581397, 1.02260972665263],\n",
        "[4.19978070107705, 1.84368294225807],\n",
        "[3.86021580581397, 0.222609726652638],\n",
        "[3.89978070107705, 2.20368294225807],\n",
        "[4.29978070107705, 0.543682942258073],\n",
        "[4.39978070107705, 1.34368294225807],\n",
        "[4.59978070107705, 0.843682942258073],\n",
        "[5.09978070107705, 2.24368294225807],\n",
        "[5.19978070107705, 1.04368294225807],\n",
        "[4.69978070107705, 2.54368294225807],\n",
        "[4.19978070107705, 2.44368294225807],\n",
        "[5.29978070107705, 1.84368294225807],\n",
        "[4.99978070107705, 1.54368294225807],\n",
        "[6.09978070107705, 2.24368294225807],\n",
        "[6.19978070107705, 1.04368294225807],\n",
        "[5.69978070107705, 2.54368294225807],\n",
        "[5.19978070107705, 2.44368294225807],\n",
        "[6.29978070107705, 1.84368294225807],\n",
        "[5.99978070107705, 1.54368294225807]]"
      ],
      "metadata": {
        "id": "EUHKkw8w_nFG"
      },
      "execution_count": null,
      "outputs": []
    },
    {
      "cell_type": "code",
      "source": [],
      "metadata": {
        "id": "ZsAtzoIggFNB"
      },
      "execution_count": null,
      "outputs": []
    }
  ]
}